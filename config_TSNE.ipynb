{
 "cells": [
  {
   "cell_type": "code",
   "execution_count": 1,
   "id": "520521ef",
   "metadata": {},
   "outputs": [],
   "source": [
    "#config for plotting. note the highlights for special bursts\n",
    "\n",
    "import pandas as pd\n",
    "import numpy as np\n",
    "\n",
    "embedding = np.genfromtxt('embedding_TSNE_20.csv', delimiter=',',dtype=str)\n",
    "grbnames = embedding[:,0]\n",
    "\n",
    "duration_data = pd.read_pickle('DataFrames/duration_data.dat')\n",
    "hardness_data = pd.read_pickle('DataFrames/hardness_data.dat')\n",
    "classification = pd.read_pickle('DataFrames/classification.dat')\n",
    "highlights = pd.read_csv('DataFrames/intersection_Swift_Fermi.csv')\n",
    "\n",
    "conf = {\n",
    "    #'figsize': (10, 9),\n",
    "    'figsize': (12, 4),\n",
    "    'radius': 5,\n",
    "    'color': np.log10(duration_data.loc[grbnames].T90),\n",
    "    #'color': hardness_data.loc[grbnames].hardness,\n",
    "    #'color': classification.replace({'L': 'C2', 'S': 'C1'}).loc[grbnames].type,\n",
    "    'cmap': 'plasma',\n",
    "    #'grb_highlight': ['GRB180418A','GRB121226A','GRB050724']\n",
    "    #'grb_highlight': ['GRB191019A']\n",
    "    #'grb_highlight': ['GRB211211A']\n",
    "    #'grb_highlight': highlights.Swift.tolist()\n",
    "}\n",
    "\n",
    "tsne_params = {\n",
    "    'perplexity':  20,\n",
    "    'verbose':     2,  \n",
    "    'n_iter':   15000,\n",
    "}"
   ]
  }
 ],
 "metadata": {
  "kernelspec": {
   "display_name": "Python 3 (ipykernel)",
   "language": "python",
   "name": "python3"
  },
  "language_info": {
   "codemirror_mode": {
    "name": "ipython",
    "version": 3
   },
   "file_extension": ".py",
   "mimetype": "text/x-python",
   "name": "python",
   "nbconvert_exporter": "python",
   "pygments_lexer": "ipython3",
   "version": "3.8.13"
  }
 },
 "nbformat": 4,
 "nbformat_minor": 5
}
