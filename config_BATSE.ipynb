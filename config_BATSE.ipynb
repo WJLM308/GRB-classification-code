{
 "cells": [
  {
   "cell_type": "code",
   "execution_count": 1,
   "id": "b2cadf11",
   "metadata": {},
   "outputs": [],
   "source": [
    "#config for plotting. note the highlights for special bursts\n",
    "\n",
    "import pandas as pd\n",
    "import numpy as np\n",
    "\n",
    "embedding_TSNE = np.genfromtxt('embedding_TSNE_BATSE.csv', delimiter=',',dtype=str)\n",
    "embedding_UMAP = np.genfromtxt('embedding_UMAP_BATSE.csv', delimiter=',',dtype=str)\n",
    "non_fft_dataset = pd.read_pickle('non_fft_dataset_BATSE_LC.dat')\n",
    "grbnames = non_fft_dataset.index.astype(int)\n",
    "\n",
    "duration_data = pd.read_pickle('DataFrames/duration_data_BATSE.dat')\n",
    "fluence_data = pd.read_pickle('DataFrames/fluence_data_BATSE.dat')\n",
    "#classification = pd.read_csv('DataFrames/classification_BATSE.txt', index_col=0)\n",
    "classification = pd.concat([pd.read_csv('DataFrames/classification_BATSE.txt', index_col=0), pd.read_csv(\"embedding_TSNE_BATSE.csv\", header = None, index_col = 0)], axis=1).dropna(subset=[1])\n",
    "hardness_data = pd.read_pickle('DataFrames/hardness_data_BATSE.dat')\n",
    "peak_flux = pd.read_pickle('DataFrames/peak_flux_BATSE.dat')\n",
    "\n",
    "\n",
    "\n",
    "conf = {\n",
    "    'figsize': (12, 16),\n",
    "    'radius': 10,\n",
    "    'color': [np.log10(duration_data.loc[grbnames, 'T90']), classification.replace({'L': 'C2', 'S': 'C1', np.nan: 'C7'}).loc[grbnames].type],\n",
    "    #'color': np.log10(duration_data.loc[grbnames, 'T90']),\n",
    "    #'color': np.log10(fluence_data.loc[grbnames, 'fluence']),\n",
    "    #'color': classification.replace({'L': 'C4', 'S': 'C1'}).loc[grbnames].type,\n",
    "    #'color': hardness_data.loc[grbnames, 'hardness'],\n",
    "    #'color': np.log10(peak_flux.loc[grbnames, 'peak_flux']),\n",
    "    'cmap': 'plasma',\n",
    "}\n",
    "\n",
    "tsne_params = {\n",
    "    'perplexity':  40,\n",
    "    'verbose':     2,  \n",
    "    'n_iter':   15000,\n",
    "}\n",
    "\n",
    "umap_params = {\n",
    "    'n_neighbors':  40,\n",
    "    'min_dist':     0.1,\n",
    "    'n_components': 2,\n",
    "}"
   ]
  }
 ],
 "metadata": {
  "kernelspec": {
   "display_name": "Python 3 (ipykernel)",
   "language": "python",
   "name": "python3"
  },
  "language_info": {
   "codemirror_mode": {
    "name": "ipython",
    "version": 3
   },
   "file_extension": ".py",
   "mimetype": "text/x-python",
   "name": "python",
   "nbconvert_exporter": "python",
   "pygments_lexer": "ipython3",
   "version": "3.9.13"
  }
 },
 "nbformat": 4,
 "nbformat_minor": 5
}
