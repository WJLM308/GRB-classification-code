{
 "cells": [
  {
   "cell_type": "code",
   "execution_count": 1,
   "id": "fad50ad4",
   "metadata": {},
   "outputs": [],
   "source": [
    "''''code to make the map itself'''\n",
    "\n",
    "import numpy as np\n",
    "import pandas as pd\n",
    "import umap\n",
    "\n",
    "#loading data\n",
    "non_fft_dataset = pd.read_pickle('non_fft_dataset.dat')\n",
    "\n",
    "#taking Fast Fourier Transform\n",
    "fft = np.fft.rfft(non_fft_dataset)\n",
    "\n",
    "#running UMAP\n",
    "from ipynb.fs.full.config_UMAP import umap_params\n",
    "n_neighbors, min_dist, n_components = umap_params['n_neighbors'], umap_params['min_dist'], umap_params['n_components']\n",
    "emb = umap.UMAP(n_neighbors = n_neighbors, min_dist = min_dist, n_components = n_components, set_op_mix_ratio = 0.3).fit_transform(abs(fft))\n",
    "\n",
    "#saving dataset, change name at will\n",
    "np.savetxt(\"embedding_UMAP.csv\",np.vstack((non_fft_dataset.index, emb[:,0], emb[:,1])).T, delimiter = ',',fmt='%s')"
   ]
  }
 ],
 "metadata": {
  "kernelspec": {
   "display_name": "Python 3 (ipykernel)",
   "language": "python",
   "name": "python3"
  },
  "language_info": {
   "codemirror_mode": {
    "name": "ipython",
    "version": 3
   },
   "file_extension": ".py",
   "mimetype": "text/x-python",
   "name": "python",
   "nbconvert_exporter": "python",
   "pygments_lexer": "ipython3",
   "version": "3.8.13"
  }
 },
 "nbformat": 4,
 "nbformat_minor": 5
}
