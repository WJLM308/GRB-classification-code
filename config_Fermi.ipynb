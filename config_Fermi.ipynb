{
 "cells": [
  {
   "cell_type": "code",
   "execution_count": 1,
   "id": "e2a66a09",
   "metadata": {},
   "outputs": [],
   "source": [
    "#config for plotting. note the highlights for special bursts\n",
    "\n",
    "import pandas as pd\n",
    "import numpy as np\n",
    "\n",
    "embedding_TSNE = np.genfromtxt('embedding_TSNE_Fermi_20.csv', delimiter=',',dtype=str)\n",
    "embedding_UMAP = np.genfromtxt('embedding_UMAP_Fermi.csv', delimiter=',',dtype=str)\n",
    "grbnames = embedding_TSNE[:,0]\n",
    "\n",
    "duration_data = pd.read_csv('DataFrames/duration_data_Fermi.csv', delimiter=\",\", names=['name','T90','T90_start'], index_col = 0, engine = 'python')\n",
    "classification = pd.read_pickle('DataFrames/classification_Fermi.dat')\n",
    "highlights = pd.read_csv('DataFrames/intersection_Swift_Fermi.csv')\n",
    "\n",
    "conf = {\n",
    "    'figsize': (10, 9),\n",
    "    'radius': 5,\n",
    "    'color': np.log10(duration_data.loc[grbnames].T90.astype(float)),\n",
    "    #'color': np.log10(fluence_data.loc[grbnames].fluence.astype(float)),\n",
    "    #'color': classification.replace({'L': 'C4', 'S': 'C1'}).loc[grbnames].type,\n",
    "    'cmap': 'plasma',\n",
    "    #'grb_highlight': ['GRB171108656']\n",
    "    #'grb_highlight': highlights.Fermi.tolist()\n",
    "}\n",
    "\n",
    "tsne_params = {\n",
    "    'perplexity':  20,\n",
    "    'verbose':     2,  \n",
    "    'n_iter':   15000,\n",
    "}\n",
    "\n",
    "umap_params = {\n",
    "    'n_neighbors':  25,\n",
    "    'min_dist':     0.1,\n",
    "    'n_components': 2,\n",
    "}"
   ]
  }
 ],
 "metadata": {
  "kernelspec": {
   "display_name": "Python 3 (ipykernel)",
   "language": "python",
   "name": "python3"
  },
  "language_info": {
   "codemirror_mode": {
    "name": "ipython",
    "version": 3
   },
   "file_extension": ".py",
   "mimetype": "text/x-python",
   "name": "python",
   "nbconvert_exporter": "python",
   "pygments_lexer": "ipython3",
   "version": "3.8.13"
  }
 },
 "nbformat": 4,
 "nbformat_minor": 5
}
