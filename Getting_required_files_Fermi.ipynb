{
 "cells": [
  {
   "cell_type": "code",
   "execution_count": 1,
   "id": "bbc695c1",
   "metadata": {},
   "outputs": [],
   "source": [
    "import pandas as pd\n",
    "import os\n",
    "from astropy.utils.data import download_file\n",
    "import ssl\n",
    "ssl._create_default_https_context = ssl._create_unverified_context\n",
    "import shutil\n",
    "\n",
    "\n",
    "# Already arranged the way I want it, no more processing needed\n",
    "duration_data = pd.read_csv('DataFrames/duration_data_Fermi.csv', index_col=0)\n",
    "# Need to process\n",
    "fluence_data = pd.read_table('summary/Best_fit_fluence_Fermi.dat', sep = '|', skipinitialspace = True, skiprows = 4, usecols = [1,2,3,4,5,6])"
   ]
  },
  {
   "cell_type": "code",
   "execution_count": 2,
   "id": "a1b99c30",
   "metadata": {},
   "outputs": [],
   "source": [
    "# Assigning best fit fluences and saving to a new file\n",
    "fluence_data = fluence_data.iloc[:,[0,1,2,3,4,5]]\n",
    "fluence_data.columns = ['name', 'best_fit', 'flnc_plaw', 'flnc_comp', 'flnc_band', 'flnc_sbpl']\n",
    "fluence_data = fluence_data.set_index('name')\n",
    "fluence_data.loc[:,'best_fit'] = fluence_data.loc[:,'best_fit'].apply(lambda x: str(x).strip())\n",
    "for x in fluence_data.index:\n",
    "    try:\n",
    "        fluence_data.loc[x,'best_fit'] = str(fluence_data.loc[x,fluence_data.loc[x,'best_fit']]) # Setting as string to show scientific notation\n",
    "    except:\n",
    "        fluence_data.loc[x,'best_fit'] = float('NaN')\n",
    "fluence_data = fluence_data.iloc[:,[0]]\n",
    "fluence_data.columns = ['fluence']\n",
    "fluence_data.to_csv('DataFrames/fluence_data_Fermi.csv')"
   ]
  },
  {
   "cell_type": "code",
   "execution_count": 3,
   "id": "275c5f08",
   "metadata": {},
   "outputs": [],
   "source": [
    "## Downloading each burst's bcat .fit file -- have to brute-force to find the version number\n",
    "def download_files():\n",
    "    grb_names = duration_data.index\n",
    "    for grb in grb_names:\n",
    "        for i in range(5):\n",
    "            url = f'https://heasarc.gsfc.nasa.gov/FTP/fermi/data/gbm/bursts/20{grb[3:5]}/bn{grb[3:]}/current/glg_bcat_all_bn{grb[3:]}_v0{i}.fit'\n",
    "            try:\n",
    "                tmp_path = download_file(url)\n",
    "                #print(f'file found at {url}')\n",
    "                batlc_path = f\"Fermi/bn{grb[3:]}.fit\"\n",
    "                shutil.move(tmp_path, batlc_path)\n",
    "            except:\n",
    "                pass\n",
    "    return\n",
    "\n",
    "#download_files()"
   ]
  }
 ],
 "metadata": {
  "kernelspec": {
   "display_name": "Python 3 (ipykernel)",
   "language": "python",
   "name": "python3"
  },
  "language_info": {
   "codemirror_mode": {
    "name": "ipython",
    "version": 3
   },
   "file_extension": ".py",
   "mimetype": "text/x-python",
   "name": "python",
   "nbconvert_exporter": "python",
   "pygments_lexer": "ipython3",
   "version": "3.9.13"
  }
 },
 "nbformat": 4,
 "nbformat_minor": 5
}
